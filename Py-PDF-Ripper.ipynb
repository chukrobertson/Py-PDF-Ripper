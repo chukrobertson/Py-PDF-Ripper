{
 "cells": [
  {
   "cell_type": "markdown",
   "metadata": {},
   "source": [
    "# This notebook converts PDFs into a DataFrame\n",
    "---\n",
    "## This notebook also:\n",
    " - Imports/Exports CSVs\n",
    " - Performs data cleaning\n",
    " - Performs Data analysis\n",
    " - Charts different data\n",
    " - Exports charts to PDF"
   ]
  },
  {
   "cell_type": "code",
   "execution_count": null,
   "metadata": {},
   "outputs": [],
   "source": [
    "# Uncomment to install needed modules\n",
    "# !pip install tabula-py pypdf2 numpy pandas matplotlib"
   ]
  },
  {
   "cell_type": "code",
   "execution_count": 2,
   "metadata": {},
   "outputs": [],
   "source": [
    "# Import modules needed for this project\n",
    "import tabula as tb\n",
    "from PyPDF2 import PdfFileReader\n",
    "import numpy as np\n",
    "import pandas as pd\n",
    "import glob\n",
    "import os\n",
    "from subprocess import call"
   ]
  },
  {
   "cell_type": "code",
   "execution_count": null,
   "metadata": {},
   "outputs": [
    {
     "name": "stdout",
     "output_type": "stream",
     "text": [
      "['page-23.csv', 'page-20.csv', 'page-15.csv', 'page-3.csv', 'page-2.csv', 'page-21.csv', 'page-12.csv', 'page-9.csv', 'page-5.csv', 'page-17.csv', 'page-13.csv', 'page-14.csv', 'page-22.csv', 'page-19.csv', 'page-1.csv', 'page-16.csv', 'page-4.csv', 'page-7.csv', 'page-8.csv', 'page-24.csv', 'page-10.csv', 'page-18.csv', 'page-11.csv', 'page-6.csv']\n",
      "['SDC 0917.pdf', 'SDC 0914.pdf', 'RDC1113.pdf', 'RDC 0914.pdf', 'RDC_08_18-2.pdf', 'RDC1201.pdf', 'RDC_09_03.pdf', 'RDC_08_24.pdf', 'RDC1102.pdf', 'SDC_09_01.pdf', 'SDC1110.pdf', '0910Lumber.pdf', 'RDC1111.pdf', 'RDC 0917.pdf', 'freight.pdf', 'SDC0908.pdf', 'SDC 0928.pdf', 'RDC 0909.pdf', 'RDC_08_31.pdf', 'RDC_08_18.pdf', 'RDC 0921.pdf', 'RDC1117.pdf', 'RDC 0921-2.pdf', 'RDC1203.pdf', 'SDC1118.pdf', 'SDC1117.pdf', 'RDC 0903.pdf', 'SDC_09_02.pdf', '2620961.pdf', 'RDC1123.pdf', 'RDC1124.pdf', 'RDC 0928.pdf', 'SDC1203.pdf', 'SDC1113.pdf', '.ipynb_checkpoints', 'RDC_09_01.pdf', 'RDC0905.pdf', 'RDC_08_31-2.pdf', 'RDC 0915.pdf', 'RDC1127.pdf', 'RDC 0921-out.pdf']\n"
     ]
    }
   ],
   "source": [
    "# This cell gets a list of pages in the pdf. We cannot rely on readng the file as a whole :(\n",
    "# We will pass this list into the next cell.\n",
    "\n",
    "# First we clear the pages from previous runs(if directory does not exist, this does nothing ;)\n",
    "\n",
    "# For Linux\n",
    "# !rm ../pages/*\n",
    "# !ls ../pages/\n",
    "\n",
    "# For Windows\n",
    "# os.removedirs('../pages')\n",
    "print(os.listdir('../pages/') )\n",
    "\n",
    "# This lists files in the /PDFs directory and promts for filename to read in.\n",
    "\n",
    "# For Linux\n",
    "# !ls ../PDFs/*pdf\n",
    "\n",
    "# For Windows\n",
    "print(os.listdir('../PDFs/') )\n",
    "infile = '../PDFs/'+input(\"What file to open: \")\n",
    "\n",
    "# Get number of pages from pdf infile\n",
    "pdf = PdfFileReader(open(infile,'rb'))\n",
    "numPages = pdf.getNumPages()\n",
    "\n",
    "# Get a list of pages to pass into the reader loop\n",
    "tmpPages = []\n",
    "for i in range(numPages):\n",
    "    tmpPages.append(i++1)\n",
    "    \n",
    "print(\"There are \",len(tmpPages),\"pages.\")"
   ]
  },
  {
   "cell_type": "code",
   "execution_count": null,
   "metadata": {},
   "outputs": [],
   "source": [
    "# This loops over the main pdf file page by page, saving each page as a csv in the /pages directory\n",
    "# THIS MIGHT TAKE SOME TIME IF THE FILE IS LARGE\n",
    "print(len(tmpPages),\" pages to be converted.\") # Here is our list of pages.\n",
    "\n",
    "# This for loop takes the list of pages in the PDF from the previous cell.\n",
    "# This loop also converts the PDF into individual CSVs and saves them to /pages\n",
    "for i in tmpPages:\n",
    "    print(\"Converting page: \"+str(i))\n",
    "    tb.convert_into(infile,\n",
    "                    \"../pages/page-\"+str(i)+\".csv\",\n",
    "                    guess=True,\n",
    "                    output_format=\"CSV\",\n",
    "                    stream=True,\n",
    "                    pages=i,\n",
    "#                     columns=[0,1,2,3,4,5], # If number of columns is known, this can be specified here.\n",
    "                    silent=True\n",
    "                    )\n",
    "        \n",
    "print(\"Done!\")"
   ]
  },
  {
   "cell_type": "code",
   "execution_count": null,
   "metadata": {},
   "outputs": [],
   "source": [
    "# This cell takes the CSVs from the previous cell and converts them into one DataFrame\n",
    "path = r'../pages/'\n",
    "all_files = glob.glob(path + \"/*.csv\")\n",
    "\n",
    "li = []\n",
    "\n",
    "for filename in all_files:\n",
    "    df = pd.read_csv(filename, names=['Dept', 'SKU', 'Description', 'Home_Location', 'Order_QTY', 'On_Hands', 'Recvd_By'], index_col=0, header=None)\n",
    "    li.append(df)\n",
    "\n",
    "frame = pd.concat(li, ignore_index=False)\n",
    "frame.head()"
   ]
  },
  {
   "cell_type": "code",
   "execution_count": null,
   "metadata": {},
   "outputs": [],
   "source": [
    "# IF you need it....\n",
    "frame.reset_index(inplace=True)\n",
    "frame.head(10)"
   ]
  },
  {
   "cell_type": "code",
   "execution_count": null,
   "metadata": {},
   "outputs": [],
   "source": [
    "# Here we can export the DataFrame we created as a CSV.\n",
    "# This cell will prompt you to enter a filename. (.csv) added automatically ;)\n",
    "saveName = input(\"Give it a meaningful name: \")\n",
    "frame.to_csv('../CSVs/'+saveName+'.csv', index=False, encoding='utf-8')"
   ]
  },
  {
   "cell_type": "markdown",
   "metadata": {},
   "source": [
    "# Import CSV here\n",
    "---\n",
    "If you've already converted a pdf you can skip the wait and import the csv now."
   ]
  },
  {
   "cell_type": "code",
   "execution_count": null,
   "metadata": {},
   "outputs": [],
   "source": [
    "# This cell will ask for a filename to import. \n",
    "# Format: filename.csv\n",
    "# Check your exported DataFrame here. ;)\n",
    "# !ls ../CSVs/*csv\n",
    "print(os.listdir('../CSVs/') )\n",
    "openName = input(\"What file to open: \")\n",
    "frame = pd.read_csv('../CSVs/'+openName)\n",
    "frame.info()"
   ]
  }
 ],
 "metadata": {
  "kernelspec": {
   "display_name": "Python 3",
   "language": "python",
   "name": "python3"
  },
  "language_info": {
   "codemirror_mode": {
    "name": "ipython",
    "version": 3
   },
   "file_extension": ".py",
   "mimetype": "text/x-python",
   "name": "python",
   "nbconvert_exporter": "python",
   "pygments_lexer": "ipython3",
   "version": "3.8.6"
  }
 },
 "nbformat": 4,
 "nbformat_minor": 4
}
