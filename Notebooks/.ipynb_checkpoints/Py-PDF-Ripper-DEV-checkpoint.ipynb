{
 "cells": [
  {
   "cell_type": "markdown",
   "metadata": {},
   "source": [
    "# This notebook converts PDFs into a DataFrame\n",
    "---"
   ]
  },
  {
   "cell_type": "code",
   "execution_count": null,
   "metadata": {},
   "outputs": [],
   "source": [
    "# Uncomment to install needed modules\n",
    "# !python3 -m pip install tabula-py pypdf2 pandas"
   ]
  },
  {
   "cell_type": "code",
   "execution_count": 19,
   "metadata": {},
   "outputs": [],
   "source": [
    "# Import modules needed for this\n",
    "from PyPDF2 import PdfFileReader\n",
    "import tabula as tb\n",
    "import pandas as pd\n",
    "import glob\n",
    "import os\n",
    "import time"
   ]
  },
  {
   "cell_type": "code",
   "execution_count": 25,
   "metadata": {},
   "outputs": [
    {
     "name": "stdout",
     "output_type": "stream",
     "text": [
      "['readme.md', 'RDC1229.pdf']\n",
      "What file to open: RDC1229.pdf\n",
      "How many columns?\n",
      "6\n",
      "Column0:1\n",
      "Column1:2\n",
      "Column2:3\n",
      "Column3:4\n",
      "Column4:5\n",
      "Column5:6\n"
     ]
    }
   ],
   "source": [
    "# This gets a list of pages in the pdf.\n",
    "# tabula-py missed pages when using the \"all\" in the read function.\n",
    "# To get around this I used PyPDF2 to count the pages in the multi-page pdf.\n",
    "# Then use that integer to pass into \"pages\"\n",
    "pdfs = os.listdir(\"../PDFs/\")\n",
    "print(pdfs)\n",
    "infile = '../PDFs/'+input(\"What file to open: \")\n",
    "colNum = int(input(\"How many columns?\\n\"))\n",
    "colNames = []\n",
    "for i in range(colNum):\n",
    "    colNames.append(str(input(\"Column\"+str(i)+\":\")))"
   ]
  },
  {
   "cell_type": "code",
   "execution_count": 26,
   "metadata": {},
   "outputs": [
    {
     "name": "stdout",
     "output_type": "stream",
     "text": [
      "There are  26  pages to be converted.\n",
      "Converting page: 1\n",
      "Converting page: 2\n",
      "Converting page: 3\n",
      "Converting page: 4\n",
      "Converting page: 5\n",
      "Converting page: 6\n",
      "Converting page: 7\n",
      "Converting page: 8\n",
      "Converting page: 9\n",
      "Converting page: 10\n",
      "Converting page: 11\n",
      "Converting page: 12\n",
      "Converting page: 13\n",
      "Converting page: 14\n",
      "Converting page: 15\n",
      "Converting page: 16\n",
      "Converting page: 17\n",
      "Converting page: 18\n",
      "Converting page: 19\n",
      "Converting page: 20\n",
      "Converting page: 21\n",
      "Converting page: 22\n",
      "Converting page: 23\n",
      "Converting page: 24\n",
      "Converting page: 25\n",
      "Converting page: 26\n",
      "\n",
      "Done!\n",
      "\n",
      "Time to run:  51 seconds.\n"
     ]
    },
    {
     "data": {
      "text/html": [
       "<div>\n",
       "<style scoped>\n",
       "    .dataframe tbody tr th:only-of-type {\n",
       "        vertical-align: middle;\n",
       "    }\n",
       "\n",
       "    .dataframe tbody tr th {\n",
       "        vertical-align: top;\n",
       "    }\n",
       "\n",
       "    .dataframe thead th {\n",
       "        text-align: right;\n",
       "    }\n",
       "</style>\n",
       "<table border=\"1\" class=\"dataframe\">\n",
       "  <thead>\n",
       "    <tr style=\"text-align: right;\">\n",
       "      <th></th>\n",
       "      <th>1</th>\n",
       "      <th>2</th>\n",
       "      <th>3</th>\n",
       "      <th>4</th>\n",
       "      <th>5</th>\n",
       "      <th>6</th>\n",
       "    </tr>\n",
       "  </thead>\n",
       "  <tbody>\n",
       "    <tr>\n",
       "      <th>0</th>\n",
       "      <td>21</td>\n",
       "      <td>0000-833-099</td>\n",
       "      <td>4OZ VINYL FENCE CEMENT</td>\n",
       "      <td>32-014-015</td>\n",
       "      <td>12</td>\n",
       "      <td>0</td>\n",
       "    </tr>\n",
       "    <tr>\n",
       "      <th>1</th>\n",
       "      <td>22</td>\n",
       "      <td>0000-962-856</td>\n",
       "      <td>WB DRYWALL RASP 6\"</td>\n",
       "      <td>23-001-038</td>\n",
       "      <td>6</td>\n",
       "      <td>7</td>\n",
       "    </tr>\n",
       "    <tr>\n",
       "      <th>2</th>\n",
       "      <td>22</td>\n",
       "      <td>0000-103-971</td>\n",
       "      <td>9\"X13\" CHIMNEY CAP - STAINLESS</td>\n",
       "      <td>27-014-006</td>\n",
       "      <td>2</td>\n",
       "      <td>1</td>\n",
       "    </tr>\n",
       "    <tr>\n",
       "      <th>3</th>\n",
       "      <td>22</td>\n",
       "      <td>0000-770-268</td>\n",
       "      <td>WERNER QUICK-CLICK LADDER STABILIZER</td>\n",
       "      <td>10-009-006</td>\n",
       "      <td>1</td>\n",
       "      <td>4</td>\n",
       "    </tr>\n",
       "    <tr>\n",
       "      <th>4</th>\n",
       "      <td>22</td>\n",
       "      <td>0000-764-659</td>\n",
       "      <td>WB DRYWALL UTILITY JAB SAW 6\"</td>\n",
       "      <td>23-001-047</td>\n",
       "      <td>12</td>\n",
       "      <td>12</td>\n",
       "    </tr>\n",
       "  </tbody>\n",
       "</table>\n",
       "</div>"
      ],
      "text/plain": [
       "    1             2                                     3           4   5   6\n",
       "0  21  0000-833-099                4OZ VINYL FENCE CEMENT  32-014-015  12   0\n",
       "1  22  0000-962-856                    WB DRYWALL RASP 6\"  23-001-038   6   7\n",
       "2  22  0000-103-971        9\"X13\" CHIMNEY CAP - STAINLESS  27-014-006   2   1\n",
       "3  22  0000-770-268  WERNER QUICK-CLICK LADDER STABILIZER  10-009-006   1   4\n",
       "4  22  0000-764-659         WB DRYWALL UTILITY JAB SAW 6\"  23-001-047  12  12"
      ]
     },
     "execution_count": 26,
     "metadata": {},
     "output_type": "execute_result"
    }
   ],
   "source": [
    "# Get number of pages from pdf infile\n",
    "pdf = PdfFileReader(open(infile,'rb'),strict=False, warndest=None)\n",
    "numPages = pdf.getNumPages()\n",
    "print(\"There are \",numPages,\" pages to be converted.\")\n",
    "# This loops over the main pdf file page by page, saving each page as a csv in the /pages directory\n",
    "# THIS MIGHT TAKE SOME TIME IF THE FILE IS LARGE\n",
    "start_time=time.time()\n",
    "for i in range(numPages):\n",
    "    print(\"Converting page: \"+str(i++1))\n",
    "    tb.convert_into(infile, \"../pages/page-\"+str(i++1)+\".csv\",\n",
    "                    guess=True,\n",
    "                    output_format=\"CSV\",\n",
    "                    stream=True,\n",
    "                    pages=i++1,\n",
    "                    silent=True\n",
    "                    )\n",
    "# This loop takes the CSVs from the previous cell and converts them into one DataFrame\n",
    "path = r'../pages/'\n",
    "all_files = glob.glob(path + \"*.csv\")\n",
    "li = []\n",
    "for filename in all_files:\n",
    "    df = pd.read_csv(filename, names = colNames, index_col=0, header=None)\n",
    "    li.append(df)\n",
    "    \n",
    "frame = pd.concat(li, ignore_index=False)\n",
    "os.system('rm -r pages/*.csv')\n",
    "frame.reset_index(inplace=True)\n",
    "end_time=time.time()-start_time\n",
    "print(\"\\nDone!\\n\")\n",
    "print(\"Time to run: \",round(end_time),\"seconds.\")\n",
    "frame.head(5)"
   ]
  },
  {
   "cell_type": "code",
   "execution_count": 6,
   "metadata": {},
   "outputs": [
    {
     "name": "stdout",
     "output_type": "stream",
     "text": [
      "Type a name for your csv.\n",
      ".csv added automatically\n",
      ": dfhfdhfh\n"
     ]
    }
   ],
   "source": [
    "# Here we can export the DataFrame we created as a CSV.\n",
    "saveName = input(\"Type a name for your csv.\\n.csv added automatically\\n: \")\n",
    "frame.to_csv('../CSVs/'+saveName+'.csv', index=0, encoding='utf-8')"
   ]
  },
  {
   "cell_type": "code",
   "execution_count": 18,
   "metadata": {},
   "outputs": [
    {
     "name": "stdout",
     "output_type": "stream",
     "text": [
      "rm: cannot remove '../CSVs/*.csv': No such file or directory\r\n"
     ]
    }
   ],
   "source": [
    "!ls ../CSVs/\n",
    "!rm -r ../CSVs/*.csv\n",
    "!ls ../CSVs/"
   ]
  },
  {
   "cell_type": "code",
   "execution_count": null,
   "metadata": {},
   "outputs": [],
   "source": []
  }
 ],
 "metadata": {
  "kernelspec": {
   "display_name": "Python 3",
   "language": "python",
   "name": "python3"
  },
  "language_info": {
   "codemirror_mode": {
    "name": "ipython",
    "version": 3
   },
   "file_extension": ".py",
   "mimetype": "text/x-python",
   "name": "python",
   "nbconvert_exporter": "python",
   "pygments_lexer": "ipython3",
   "version": "3.8.5"
  }
 },
 "nbformat": 4,
 "nbformat_minor": 4
}
