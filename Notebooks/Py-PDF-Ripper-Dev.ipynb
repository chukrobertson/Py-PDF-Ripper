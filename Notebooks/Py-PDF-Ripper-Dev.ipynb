{
 "cells": [
  {
   "cell_type": "markdown",
   "metadata": {},
   "source": [
    "# This notebook converts PDFs into a DataFrame\n",
    "---"
   ]
  },
  {
   "cell_type": "code",
   "execution_count": null,
   "metadata": {},
   "outputs": [],
   "source": [
    "# DEVELOPMENT NOTEBOOK"
   ]
  },
  {
   "cell_type": "code",
   "execution_count": null,
   "metadata": {},
   "outputs": [],
   "source": [
    "# Uncomment to install needed modules\n",
    "# !pip3 install tabula-py pypdf2 pandas"
   ]
  },
  {
   "cell_type": "code",
   "execution_count": null,
   "metadata": {},
   "outputs": [],
   "source": [
    "# Import modules needed for this\n",
    "import tabula as tb\n",
    "from PyPDF2 import PdfFileReader\n",
    "import pandas as pd\n",
    "import glob"
   ]
  },
  {
   "cell_type": "code",
   "execution_count": null,
   "metadata": {},
   "outputs": [],
   "source": [
    "# This cell gets a list of pages in the pdf. We cannot rely on readng the file as a whole :(\n",
    "# We will pass this list into the next cell.\n",
    "# First we clear the pages from previous runs(if directory does not exist, this does nothing ;)\n",
    "!rm ../pages/*\n",
    "# This lists files in the /PDFs directory and promts for filename to read in.\n",
    "# For Linux\n",
    "!ls ../PDFs/*pdf\n",
    "infile = '../PDFs/'+input(\"What file to open: \")\n",
    "# infile = input(\"What file to open: \")\n",
    "# Get number of pages from pdf infile\n",
    "pdf = PdfFileReader(open(infile,'rb'))\n",
    "numPages = pdf.getNumPages()\n",
    "\n",
    "# Get a list of pages to pass into the reader loop\n",
    "tmpPages = []\n",
    "for i in range(numPages):\n",
    "    tmpPages.append(i++1)\n",
    "    \n",
    "print(\"There are \",len(tmpPages),\"pages.\")"
   ]
  },
  {
   "cell_type": "code",
   "execution_count": null,
   "metadata": {},
   "outputs": [],
   "source": [
    "# This loops over the main pdf file page by page, saving each page as a csv in the /pages directory\n",
    "# THIS MIGHT TAKE SOME TIME IF THE FILE IS LARGE\n",
    "print(len(tmpPages),\" pages to be converted.\") # Here is our list of pages.\n",
    "\n",
    "# This for loop takes the list of pages in the PDF from the previous cell.\n",
    "# This loop also converts the PDF into individual CSVs and saves them to /pages\n",
    "for i in tmpPages:\n",
    "    print(\"Converting page: \"+str(i))\n",
    "    tb.convert_into(infile,\n",
    "                    \"../pages/page-\"+str(i)+\".csv\",\n",
    "                    guess=True,\n",
    "                    output_format=\"CSV\",\n",
    "                    stream=True,\n",
    "                    pages=i,\n",
    "#                     columns=[0,1,2,3,4,5], # If number of columns is known, this can be specified here.\n",
    "                    silent=True\n",
    "                    )\n",
    "        \n",
    "print(\"Done!\")"
   ]
  },
  {
   "cell_type": "code",
   "execution_count": null,
   "metadata": {},
   "outputs": [],
   "source": [
    "# This cell takes the CSVs from the previous cell and converts them into one DataFrame\n",
    "path = r'../pages/'\n",
    "all_files = glob.glob(path + \"*.csv\")\n",
    "\n",
    "li = []\n",
    "\n",
    "for filename in all_files:\n",
    "    df = pd.read_csv(filename, names=['Col1', 'Col2', 'Col3', 'Col4', 'Col5', 'Col6', 'Col7'], index_col=0, header=None)\n",
    "    li.append(df)\n",
    "\n",
    "frame = pd.concat(li, ignore_index=False)\n",
    "frame.head()"
   ]
  },
  {
   "cell_type": "code",
   "execution_count": null,
   "metadata": {},
   "outputs": [],
   "source": [
    "# IF you need it....\n",
    "# You'll probably need it.\n",
    "frame.reset_index(inplace=True)\n",
    "frame.head(5)"
   ]
  },
  {
   "cell_type": "code",
   "execution_count": null,
   "metadata": {},
   "outputs": [],
   "source": [
    "# Here we can export the DataFrame we created as a CSV.\n",
    "# This cell will prompt you to enter a filename. (.csv) added automatically ;)\n",
    "saveName = input(\"Give it a meaningful name: \")\n",
    "frame.to_csv('../CSVs/'+saveName+'.csv', index=False, encoding='utf-8')"
   ]
  }
 ],
 "metadata": {
  "kernelspec": {
   "display_name": "Python 3",
   "language": "python",
   "name": "python3"
  },
  "language_info": {
   "codemirror_mode": {
    "name": "ipython",
    "version": 3
   },
   "file_extension": ".py",
   "mimetype": "text/x-python",
   "name": "python",
   "nbconvert_exporter": "python",
   "pygments_lexer": "ipython3",
   "version": "3.8.5"
  }
 },
 "nbformat": 4,
 "nbformat_minor": 4
}
